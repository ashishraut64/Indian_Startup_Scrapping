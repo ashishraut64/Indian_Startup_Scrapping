{
 "cells": [
  {
   "cell_type": "code",
   "execution_count": 2,
   "id": "0de7700d",
   "metadata": {},
   "outputs": [],
   "source": [
    "import pandas as pd\n",
    "import numpy as np\n",
    "import re\n",
    "from bs4 import BeautifulSoup"
   ]
  },
  {
   "cell_type": "code",
   "execution_count": 3,
   "id": "f388b7f7",
   "metadata": {},
   "outputs": [],
   "source": [
    "with open('Startup.html','r',encoding='utf-8') as f:\n",
    "    html=f.read()"
   ]
  },
  {
   "cell_type": "code",
   "execution_count": 76,
   "id": "bb98fa22",
   "metadata": {},
   "outputs": [],
   "source": [
    "soup= BeautifulSoup(html,'lxml')"
   ]
  },
  {
   "cell_type": "code",
   "execution_count": 77,
   "id": "7d4beca3",
   "metadata": {},
   "outputs": [],
   "source": [
    "containers = soup.find_all('article',{'class':'content-rich-text w-richtext'})"
   ]
  },
  {
   "cell_type": "code",
   "execution_count": 98,
   "id": "7a0f89c2",
   "metadata": {},
   "outputs": [],
   "source": [
    "name=[]\n",
    "for i in range(len(containers[1].find_all('h3'))):\n",
    "\tname.append(containers[1].find_all('h3')[i].text)"
   ]
  },
  {
   "cell_type": "code",
   "execution_count": 99,
   "id": "ea56e7bc",
   "metadata": {},
   "outputs": [],
   "source": [
    "for i in range(len(containers[2].find_all('h3'))):\n",
    "\tname.append(containers[2].find_all('h3')[i].text)"
   ]
  },
  {
   "cell_type": "code",
   "execution_count": 100,
   "id": "fc69cbda",
   "metadata": {},
   "outputs": [],
   "source": [
    "for i in range(len(containers[3].find_all('h3')[:100])):\n",
    "\tname.append((containers[3].find_all('h3')[:100])[i].text)"
   ]
  },
  {
   "cell_type": "markdown",
   "id": "c7a041c0",
   "metadata": {},
   "source": [
    "### Company"
   ]
  },
  {
   "cell_type": "code",
   "execution_count": 104,
   "id": "9593d28f",
   "metadata": {},
   "outputs": [],
   "source": [
    "#Company Name Final\n",
    "company=[]\n",
    "for i in name:\n",
    "    i=re.sub('\\d{1,3}[)]\\s','',str(i))\n",
    "    company.append(i)   "
   ]
  },
  {
   "cell_type": "markdown",
   "id": "3f4ff7ff",
   "metadata": {},
   "source": [
    "### City"
   ]
  },
  {
   "cell_type": "code",
   "execution_count": 114,
   "id": "0db35cbc",
   "metadata": {},
   "outputs": [],
   "source": [
    "containers1 = soup.find_all('ul',{'role':'list'})"
   ]
  },
  {
   "cell_type": "code",
   "execution_count": 123,
   "id": "21b88384",
   "metadata": {},
   "outputs": [
    {
     "data": {
      "text/plain": [
       "'City: Noida'"
      ]
     },
     "execution_count": 123,
     "metadata": {},
     "output_type": "execute_result"
    }
   ],
   "source": [
    "containers1[1].find_all('li')[0].text"
   ]
  },
  {
   "cell_type": "code",
   "execution_count": 127,
   "id": "e2a55079",
   "metadata": {},
   "outputs": [
    {
     "data": {
      "text/plain": [
       "<ul role=\"list\"><li>City: Bengaluru</li><li>Started in: 2016</li><li>Founders: Swapnil Saurav</li><li>Industries: Digital Entertainment, Fantasy Sports, Sports</li><li>Number of employees: 1-10</li><li>Funding amount: $7,964,767</li><li>Number of funding rounds: 3</li><li>Number of investors: 8</li></ul>"
      ]
     },
     "execution_count": 127,
     "metadata": {},
     "output_type": "execute_result"
    }
   ],
   "source": [
    "containers1[299]"
   ]
  },
  {
   "cell_type": "code",
   "execution_count": 137,
   "id": "f69e74e8",
   "metadata": {},
   "outputs": [],
   "source": [
    "count=0\n",
    "location=[]\n",
    "for i in range(len(containers1)):\n",
    "    if count<300:\n",
    "        location.append(containers1[i].find_all('li')[0].text)\n",
    "        count+=1\n",
    "    "
   ]
  },
  {
   "cell_type": "code",
   "execution_count": 149,
   "id": "f64831fc",
   "metadata": {},
   "outputs": [],
   "source": [
    "city=[]\n",
    "for i in location:\n",
    "    x= re.sub('City: ','',i)\n",
    "    city.append(x)"
   ]
  },
  {
   "cell_type": "markdown",
   "id": "fd7bd58e",
   "metadata": {},
   "source": [
    "### Started in"
   ]
  },
  {
   "cell_type": "code",
   "execution_count": 153,
   "id": "844340fe",
   "metadata": {},
   "outputs": [
    {
     "data": {
      "text/plain": [
       "'Started in: 2018'"
      ]
     },
     "execution_count": 153,
     "metadata": {},
     "output_type": "execute_result"
    }
   ],
   "source": [
    "containers1[1].find_all('li')[1].text"
   ]
  },
  {
   "cell_type": "code",
   "execution_count": 178,
   "id": "da3f5f02",
   "metadata": {},
   "outputs": [],
   "source": [
    "count=0\n",
    "started=[]\n",
    "for i in range(len(containers1)):\n",
    "    if count<300:\n",
    "        started.append(containers1[i].find_all('li')[1].text)\n",
    "        count+=1"
   ]
  },
  {
   "cell_type": "code",
   "execution_count": 179,
   "id": "a74045d0",
   "metadata": {},
   "outputs": [],
   "source": [
    "founded=[]\n",
    "for i in started:\n",
    "    x= re.sub('Started in: ','',i)\n",
    "    founded.append(x)"
   ]
  },
  {
   "cell_type": "markdown",
   "id": "5523cefa",
   "metadata": {},
   "source": [
    "### Founders"
   ]
  },
  {
   "cell_type": "code",
   "execution_count": 168,
   "id": "5d7617cb",
   "metadata": {},
   "outputs": [
    {
     "data": {
      "text/plain": [
       "'Founders: Bhaswat Agarwal, Bikash Dash, Mukul Rustagi, Nikhil Goel, Vatsal Rustagi'"
      ]
     },
     "execution_count": 168,
     "metadata": {},
     "output_type": "execute_result"
    }
   ],
   "source": [
    "containers1[1].find_all('li')[2].text"
   ]
  },
  {
   "cell_type": "code",
   "execution_count": 258,
   "id": "5d728a92",
   "metadata": {},
   "outputs": [],
   "source": [
    "count=0\n",
    "Founders=[]\n",
    "for i in range(len(containers1)):\n",
    "    if count<300:\n",
    "        Founders.append(containers1[i].find_all('li')[2].text)\n",
    "        count+=1"
   ]
  },
  {
   "cell_type": "code",
   "execution_count": 259,
   "id": "cdc82784",
   "metadata": {},
   "outputs": [],
   "source": [
    "sub='Founders:'\n",
    "b=[]\n",
    "for i in Founders:\n",
    "    if sub in i:\n",
    "        b.append(i)\n",
    "    else:\n",
    "        b.append('Not Available')\n",
    "        "
   ]
  },
  {
   "cell_type": "code",
   "execution_count": 261,
   "id": "240d0b62",
   "metadata": {},
   "outputs": [],
   "source": [
    "founders=[]\n",
    "for i in b:\n",
    "    x= re.sub('Founders: ','',i)\n",
    "    founders.append(x)"
   ]
  },
  {
   "cell_type": "markdown",
   "id": "684adc71",
   "metadata": {},
   "source": [
    "### Industries"
   ]
  },
  {
   "cell_type": "code",
   "execution_count": 263,
   "id": "c177e0f8",
   "metadata": {},
   "outputs": [
    {
     "data": {
      "text/plain": [
       "'Industries: B2B, E-Learning, EdTech, Education, Mobile Apps, SaaS, Software'"
      ]
     },
     "execution_count": 263,
     "metadata": {},
     "output_type": "execute_result"
    }
   ],
   "source": [
    "containers1[1].find_all('li')[3].text"
   ]
  },
  {
   "cell_type": "code",
   "execution_count": 268,
   "id": "85e13a7c",
   "metadata": {},
   "outputs": [],
   "source": [
    "count=0\n",
    "Industry=[]\n",
    "for i in range(len(containers1)):\n",
    "    if count<300:\n",
    "        Industry.append(containers1[i].find_all('li')[3].text)\n",
    "        count+=1"
   ]
  },
  {
   "cell_type": "code",
   "execution_count": 269,
   "id": "1156b16c",
   "metadata": {},
   "outputs": [],
   "source": [
    "sub='Industries:'\n",
    "b=[]\n",
    "count=0\n",
    "for i in Industry:\n",
    "    if sub in i:\n",
    "        b.append(i)\n",
    "    else:\n",
    "        b.append(Founders[count])\n",
    "    count+=1        "
   ]
  },
  {
   "cell_type": "code",
   "execution_count": 274,
   "id": "551c51eb",
   "metadata": {},
   "outputs": [],
   "source": [
    "industries=[]\n",
    "for i in b:\n",
    "    x= re.sub('Industries: ','',i)\n",
    "    industries.append(x)"
   ]
  },
  {
   "cell_type": "markdown",
   "id": "30783b43",
   "metadata": {},
   "source": [
    "### Number of Employees"
   ]
  },
  {
   "cell_type": "code",
   "execution_count": 193,
   "id": "3bab968a",
   "metadata": {},
   "outputs": [
    {
     "data": {
      "text/plain": [
       "'Number of employees: 101-250'"
      ]
     },
     "execution_count": 193,
     "metadata": {},
     "output_type": "execute_result"
    }
   ],
   "source": [
    "containers1[1].find_all('li')[4].text"
   ]
  },
  {
   "cell_type": "code",
   "execution_count": 277,
   "id": "5a12e4ed",
   "metadata": {},
   "outputs": [],
   "source": [
    "count=0\n",
    "Employee=[]\n",
    "for i in range(len(containers1)):\n",
    "    if count<300:\n",
    "        Employee.append(containers1[i].find_all('li')[4].text)\n",
    "        count+=1"
   ]
  },
  {
   "cell_type": "code",
   "execution_count": 281,
   "id": "d44b6922",
   "metadata": {},
   "outputs": [],
   "source": [
    "sub='Number of employees:'\n",
    "b=[]\n",
    "count=0\n",
    "for i in Employee:\n",
    "    if sub in i:\n",
    "        b.append(i)\n",
    "    else:\n",
    "        b.append(Industry[count])\n",
    "    count+=1    "
   ]
  },
  {
   "cell_type": "code",
   "execution_count": 283,
   "id": "89c50cd3",
   "metadata": {},
   "outputs": [],
   "source": [
    "sub = \"Number of employees: \"\n",
    "c=[]\n",
    "for i in b:\n",
    "    if sub in i:\n",
    "        c.append(i)\n",
    "    else:\n",
    "        c.append('Not Available')"
   ]
  },
  {
   "cell_type": "code",
   "execution_count": 285,
   "id": "fa1b1da2",
   "metadata": {},
   "outputs": [],
   "source": [
    "employees=[]\n",
    "for i in c:\n",
    "    x= re.sub('Number of employees: ','',i)\n",
    "    employees.append(x)"
   ]
  },
  {
   "cell_type": "markdown",
   "id": "0c590e5e",
   "metadata": {},
   "source": [
    "### Funding Amount"
   ]
  },
  {
   "cell_type": "code",
   "execution_count": 223,
   "id": "3074f66d",
   "metadata": {},
   "outputs": [
    {
     "data": {
      "text/plain": [
       "'Funding amount: $89,506,451'"
      ]
     },
     "execution_count": 223,
     "metadata": {},
     "output_type": "execute_result"
    }
   ],
   "source": [
    "containers1[1].find_all('li')[5].text"
   ]
  },
  {
   "cell_type": "code",
   "execution_count": 358,
   "id": "fac80756",
   "metadata": {},
   "outputs": [],
   "source": [
    "count=0\n",
    "amount=[]\n",
    "for i in range(len(containers1)):\n",
    "    if count<300:\n",
    "        amount.append(containers1[i].find_all('li')[5].text)\n",
    "        count+=1"
   ]
  },
  {
   "cell_type": "code",
   "execution_count": 359,
   "id": "38faa739",
   "metadata": {},
   "outputs": [],
   "source": [
    "sub = \"Funding amount:\"\n",
    "b=[]\n",
    "count=0\n",
    "for i in amount:\n",
    "    if sub in i:\n",
    "        b.append(i)\n",
    "    else:\n",
    "        b.append(Employee[count])\n",
    "    count+=1   "
   ]
  },
  {
   "cell_type": "code",
   "execution_count": 360,
   "id": "37382dbf",
   "metadata": {},
   "outputs": [],
   "source": [
    "sub = \"Funding amount:\"\n",
    "c=[]\n",
    "for i in b:\n",
    "    if sub in i:\n",
    "        c.append(i)\n",
    "    else:\n",
    "        c.append('Not Available')"
   ]
  },
  {
   "cell_type": "code",
   "execution_count": 363,
   "id": "8e907972",
   "metadata": {},
   "outputs": [],
   "source": [
    "funding=[]\n",
    "for i in c:\n",
    "    x= re.sub('Funding amount: ','',i)\n",
    "    funding.append(x)"
   ]
  },
  {
   "cell_type": "code",
   "execution_count": null,
   "id": "d957aabc",
   "metadata": {},
   "outputs": [],
   "source": [
    "total=[]\n",
    "for i in funding:\n",
    "    i=i.replace(',','')\n",
    "    if i.startswith('₹'):\n",
    "        i=i.replace('₹','')\n",
    "        i = int(i)*0.012\n",
    "        i=int(i)\n",
    "        total.append(i)\n",
    "    elif i.startswith('$'):\n",
    "        i=i.replace('$','')\n",
    "        i=int(i)\n",
    "        total.append(i)\n",
    "    else:\n",
    "        total.append(0)\n",
    "            "
   ]
  },
  {
   "cell_type": "markdown",
   "id": "0f7f897e",
   "metadata": {},
   "source": [
    "### Funding Rounds"
   ]
  },
  {
   "cell_type": "code",
   "execution_count": 303,
   "id": "5ba17d62",
   "metadata": {},
   "outputs": [
    {
     "data": {
      "text/plain": [
       "'Number of funding rounds: 3'"
      ]
     },
     "execution_count": 303,
     "metadata": {},
     "output_type": "execute_result"
    }
   ],
   "source": [
    "containers1[299].find_all('li')[6].text"
   ]
  },
  {
   "cell_type": "code",
   "execution_count": 508,
   "id": "25b494f9",
   "metadata": {},
   "outputs": [],
   "source": [
    "count=0\n",
    "Rounds=[]\n",
    "for i in range(len(containers1)):\n",
    "    try:\n",
    "        if count<300:\n",
    "            Rounds.append(containers1[i].find_all('li')[6].text)\n",
    "    except:\n",
    "        if count<300:\n",
    "            Rounds.append('Not Available')\n",
    "    count+=1"
   ]
  },
  {
   "cell_type": "code",
   "execution_count": 509,
   "id": "62f9a923",
   "metadata": {},
   "outputs": [],
   "source": [
    "sub = \"Number of funding rounds:\"\n",
    "b=[]\n",
    "count=0\n",
    "for i in Rounds:\n",
    "    if sub in i:\n",
    "        b.append(i)\n",
    "    else:\n",
    "        b.append(amount[count])\n",
    "    count+=1   "
   ]
  },
  {
   "cell_type": "code",
   "execution_count": 510,
   "id": "c88d14b7",
   "metadata": {},
   "outputs": [],
   "source": [
    "sub = \"Number of funding rounds:\"\n",
    "c=[]\n",
    "for i in b:\n",
    "    if sub in i:\n",
    "        c.append(i)\n",
    "    else:\n",
    "        c.append('0')"
   ]
  },
  {
   "cell_type": "code",
   "execution_count": 511,
   "id": "4a453225",
   "metadata": {},
   "outputs": [],
   "source": [
    "rounds=[]\n",
    "for i in c:\n",
    "    x= re.sub('Number of funding rounds: ','',i)\n",
    "    rounds.append(x)"
   ]
  },
  {
   "cell_type": "markdown",
   "id": "eee88b9a",
   "metadata": {},
   "source": [
    "### Number of Investors"
   ]
  },
  {
   "cell_type": "code",
   "execution_count": 372,
   "id": "8ecb552e",
   "metadata": {},
   "outputs": [
    {
     "data": {
      "text/plain": [
       "'Number of investors: 8'"
      ]
     },
     "execution_count": 372,
     "metadata": {},
     "output_type": "execute_result"
    }
   ],
   "source": [
    "containers1[299].find_all('li')[7].text"
   ]
  },
  {
   "cell_type": "code",
   "execution_count": 498,
   "id": "43bb68ba",
   "metadata": {},
   "outputs": [],
   "source": [
    "count=0\n",
    "Investors=[]\n",
    "for i in range(len(containers1)):\n",
    "    try:\n",
    "        if count<300:\n",
    "            Investors.append(containers1[i].find_all('li')[7].text)\n",
    "    except:\n",
    "        if count<300:\n",
    "            Investors.append('Not Available')\n",
    "    count+=1"
   ]
  },
  {
   "cell_type": "code",
   "execution_count": 499,
   "id": "3dd89802",
   "metadata": {},
   "outputs": [],
   "source": [
    "sub = \"Number of investors:\"\n",
    "b=[]\n",
    "count=0\n",
    "for i in Investors:\n",
    "    if sub in i:\n",
    "        b.append(i)\n",
    "    else:\n",
    "        b.append(Rounds[count])\n",
    "    count+=1   "
   ]
  },
  {
   "cell_type": "code",
   "execution_count": 500,
   "id": "5f887074",
   "metadata": {},
   "outputs": [],
   "source": [
    "sub = \"Number of investors:\"\n",
    "c=[]\n",
    "for i in b:\n",
    "    if sub in i:\n",
    "        c.append(i)\n",
    "    else:\n",
    "        c.append('0')"
   ]
  },
  {
   "cell_type": "code",
   "execution_count": 501,
   "id": "c83d2a70",
   "metadata": {},
   "outputs": [],
   "source": [
    "investors=[]\n",
    "for i in c:\n",
    "    x= re.sub('Number of investors: ','',i)\n",
    "    investors.append(x)"
   ]
  },
  {
   "cell_type": "markdown",
   "id": "7c190cd7",
   "metadata": {},
   "source": [
    "### Description"
   ]
  },
  {
   "cell_type": "code",
   "execution_count": 591,
   "id": "f6685484",
   "metadata": {},
   "outputs": [],
   "source": [
    "p1=[]\n",
    "for i in range(len(containers[1].find_all('p'))):\n",
    "    x=containers[1].find_all('p')[i]\n",
    "    p1.append(x)\n",
    "    "
   ]
  },
  {
   "cell_type": "code",
   "execution_count": 592,
   "id": "ea556126",
   "metadata": {},
   "outputs": [],
   "source": [
    "p2=[]\n",
    "for i in range(len(containers[2].find_all('p'))):\n",
    "    x=containers[2].find_all('p')[i]\n",
    "    p2.append(x)"
   ]
  },
  {
   "cell_type": "code",
   "execution_count": 608,
   "id": "9f3371ee",
   "metadata": {},
   "outputs": [],
   "source": [
    "p3=[]\n",
    "for i in range(len(containers[3].find_all('p'))):\n",
    "    x=containers[3].find_all('p')[i]\n",
    "    p3.append(x)\n",
    "p3=p3[:397]"
   ]
  },
  {
   "cell_type": "code",
   "execution_count": 594,
   "id": "8963235c",
   "metadata": {},
   "outputs": [],
   "source": [
    "desc = []\n",
    "count=0\n",
    "for i in range(len(p1)):\n",
    "    if i==count:\n",
    "        desc.append(p1[count])\n",
    "        count+=4\n",
    "    "
   ]
  },
  {
   "cell_type": "code",
   "execution_count": 595,
   "id": "856e5cdc",
   "metadata": {},
   "outputs": [],
   "source": [
    "count=0\n",
    "for i in range(len(p2)):\n",
    "    if i==count:\n",
    "        desc.append(p2[count])\n",
    "        count+=4"
   ]
  },
  {
   "cell_type": "code",
   "execution_count": 610,
   "id": "5fb15f1f",
   "metadata": {},
   "outputs": [],
   "source": [
    "count=0\n",
    "for i in range(len(p3)):\n",
    "    if i==count:\n",
    "        desc.append(p3[count])\n",
    "        count+=4"
   ]
  },
  {
   "cell_type": "code",
   "execution_count": 620,
   "id": "a23f1f90",
   "metadata": {},
   "outputs": [],
   "source": [
    "description=[]\n",
    "for i in desc:\n",
    "    i=re.sub('<p>','',str(i))\n",
    "    i=re.sub('<br/></p>','',str(i))\n",
    "    description.append(i)"
   ]
  },
  {
   "cell_type": "markdown",
   "id": "6ec11315",
   "metadata": {},
   "source": [
    "### DataFrame"
   ]
  },
  {
   "cell_type": "code",
   "execution_count": 623,
   "id": "c763de65",
   "metadata": {},
   "outputs": [],
   "source": [
    "df= pd.DataFrame({\n",
    "    'Company': company,\n",
    "    'City': city,\n",
    "    'Starting Year': founded,\n",
    "    'Founders': founders,\n",
    "    'Industries':industries,\n",
    "    'Description': description,\n",
    "    'No. of Employees': employees,\n",
    "    'Funding Amount in $': total,\n",
    "    'Funding Round' : rounds,\n",
    "    'No. of Investors': investors\n",
    "    \n",
    "})"
   ]
  },
  {
   "cell_type": "code",
   "execution_count": 624,
   "id": "a784734a",
   "metadata": {},
   "outputs": [
    {
     "name": "stdout",
     "output_type": "stream",
     "text": [
      "<class 'pandas.core.frame.DataFrame'>\n",
      "RangeIndex: 300 entries, 0 to 299\n",
      "Data columns (total 10 columns):\n",
      " #   Column               Non-Null Count  Dtype \n",
      "---  ------               --------------  ----- \n",
      " 0   Company              300 non-null    object\n",
      " 1   City                 300 non-null    object\n",
      " 2   Starting Year        300 non-null    object\n",
      " 3   Founders             300 non-null    object\n",
      " 4   Industries           300 non-null    object\n",
      " 5   Description          300 non-null    object\n",
      " 6   No. of Employees     300 non-null    object\n",
      " 7   Funding Amount in $  300 non-null    int64 \n",
      " 8   Funding Round        300 non-null    object\n",
      " 9   No. of Investors     300 non-null    object\n",
      "dtypes: int64(1), object(9)\n",
      "memory usage: 23.6+ KB\n"
     ]
    }
   ],
   "source": [
    "df.info()"
   ]
  },
  {
   "cell_type": "code",
   "execution_count": 625,
   "id": "e147e1c3",
   "metadata": {},
   "outputs": [],
   "source": [
    "df['No. of Investors']=df['No. of Investors'].astype('int64')"
   ]
  },
  {
   "cell_type": "code",
   "execution_count": 626,
   "id": "a326a27c",
   "metadata": {},
   "outputs": [],
   "source": [
    "df['Funding Round']=df['Funding Round'].astype('int64')"
   ]
  },
  {
   "cell_type": "code",
   "execution_count": 627,
   "id": "56955008",
   "metadata": {},
   "outputs": [],
   "source": [
    "df['Starting Year']=df['Starting Year'].astype('int64')"
   ]
  },
  {
   "cell_type": "code",
   "execution_count": 628,
   "id": "b2336b27",
   "metadata": {},
   "outputs": [
    {
     "data": {
      "text/html": [
       "<div>\n",
       "<style scoped>\n",
       "    .dataframe tbody tr th:only-of-type {\n",
       "        vertical-align: middle;\n",
       "    }\n",
       "\n",
       "    .dataframe tbody tr th {\n",
       "        vertical-align: top;\n",
       "    }\n",
       "\n",
       "    .dataframe thead th {\n",
       "        text-align: right;\n",
       "    }\n",
       "</style>\n",
       "<table border=\"1\" class=\"dataframe\">\n",
       "  <thead>\n",
       "    <tr style=\"text-align: right;\">\n",
       "      <th></th>\n",
       "      <th>Company</th>\n",
       "      <th>City</th>\n",
       "      <th>Starting Year</th>\n",
       "      <th>Founders</th>\n",
       "      <th>Industries</th>\n",
       "      <th>Description</th>\n",
       "      <th>No. of Employees</th>\n",
       "      <th>Funding Amount in $</th>\n",
       "      <th>Funding Round</th>\n",
       "      <th>No. of Investors</th>\n",
       "    </tr>\n",
       "  </thead>\n",
       "  <tbody>\n",
       "    <tr>\n",
       "      <th>0</th>\n",
       "      <td>Urban Company</td>\n",
       "      <td>Gurgaon</td>\n",
       "      <td>2014</td>\n",
       "      <td>Abhiraj Singh Bhal, Raghav Chandra, Varun Khaitan</td>\n",
       "      <td>Apps, Home Services, Marketplace, Service Indu...</td>\n",
       "      <td>Urban is a marketplace for independent contrac...</td>\n",
       "      <td>1001-5000</td>\n",
       "      <td>445920356</td>\n",
       "      <td>12</td>\n",
       "      <td>16</td>\n",
       "    </tr>\n",
       "    <tr>\n",
       "      <th>1</th>\n",
       "      <td>Classplus</td>\n",
       "      <td>Noida</td>\n",
       "      <td>2018</td>\n",
       "      <td>Bhaswat Agarwal, Bikash Dash, Mukul Rustagi, N...</td>\n",
       "      <td>B2B, E-Learning, EdTech, Education, Mobile App...</td>\n",
       "      <td>Classplus is a mobile-first SaaS platform that...</td>\n",
       "      <td>101-250</td>\n",
       "      <td>89506451</td>\n",
       "      <td>10</td>\n",
       "      <td>20</td>\n",
       "    </tr>\n",
       "    <tr>\n",
       "      <th>2</th>\n",
       "      <td>Paytm</td>\n",
       "      <td>Noida</td>\n",
       "      <td>2010</td>\n",
       "      <td>Akshay Khanna, Vijay Shekhar Sharma</td>\n",
       "      <td>E-Commerce, Finance, Financial Services, Inter...</td>\n",
       "      <td>Paytm is a payment gateway that allows users a...</td>\n",
       "      <td>501-1000</td>\n",
       "      <td>32448851</td>\n",
       "      <td>4</td>\n",
       "      <td>4</td>\n",
       "    </tr>\n",
       "    <tr>\n",
       "      <th>3</th>\n",
       "      <td>Apna</td>\n",
       "      <td>Mumbai</td>\n",
       "      <td>2019</td>\n",
       "      <td>Nirmit Parikh</td>\n",
       "      <td>Employment, Human Resources, Recruiting, Staff...</td>\n",
       "      <td>Apna is a professional networking and job-sear...</td>\n",
       "      <td>101-250</td>\n",
       "      <td>93450000</td>\n",
       "      <td>4</td>\n",
       "      <td>6</td>\n",
       "    </tr>\n",
       "    <tr>\n",
       "      <th>4</th>\n",
       "      <td>Razorpay</td>\n",
       "      <td>Bengaluru</td>\n",
       "      <td>2014</td>\n",
       "      <td>Harshil Mathur, Shashank Kumar</td>\n",
       "      <td>Financial Services, FinTech, Payments, Software</td>\n",
       "      <td>Razorpay is a payment acceptance, processing, ...</td>\n",
       "      <td>1001-5000</td>\n",
       "      <td>366600000</td>\n",
       "      <td>7</td>\n",
       "      <td>29</td>\n",
       "    </tr>\n",
       "    <tr>\n",
       "      <th>...</th>\n",
       "      <td>...</td>\n",
       "      <td>...</td>\n",
       "      <td>...</td>\n",
       "      <td>...</td>\n",
       "      <td>...</td>\n",
       "      <td>...</td>\n",
       "      <td>...</td>\n",
       "      <td>...</td>\n",
       "      <td>...</td>\n",
       "      <td>...</td>\n",
       "    </tr>\n",
       "    <tr>\n",
       "      <th>295</th>\n",
       "      <td>SafexPay</td>\n",
       "      <td>Thane</td>\n",
       "      <td>2017</td>\n",
       "      <td>Ravi Gupta</td>\n",
       "      <td>FinTech, Payments</td>\n",
       "      <td>Safexpay is a B2B2B finance company that speci...</td>\n",
       "      <td>51-100</td>\n",
       "      <td>5280000</td>\n",
       "      <td>1</td>\n",
       "      <td>2</td>\n",
       "    </tr>\n",
       "    <tr>\n",
       "      <th>296</th>\n",
       "      <td>Pariksha</td>\n",
       "      <td>Pune</td>\n",
       "      <td>2015</td>\n",
       "      <td>Deepak Choudhary, Karanvir Singh Shekhawat, Ut...</td>\n",
       "      <td>E-Learning, EdTech, Education, Skill Assessment</td>\n",
       "      <td>Pariksha - The Success App is India's leading ...</td>\n",
       "      <td>51-100</td>\n",
       "      <td>6065079</td>\n",
       "      <td>7</td>\n",
       "      <td>20</td>\n",
       "    </tr>\n",
       "    <tr>\n",
       "      <th>297</th>\n",
       "      <td>Fyllo</td>\n",
       "      <td>Bengaluru</td>\n",
       "      <td>2019</td>\n",
       "      <td>Sachin Gautam, Sudhanshu Rai, Sumit Sheoran</td>\n",
       "      <td>Agriculture, AgTech, Artificial Intelligence, ...</td>\n",
       "      <td>Fyllo is a precision agriculture service provi...</td>\n",
       "      <td>11-50</td>\n",
       "      <td>557033</td>\n",
       "      <td>4</td>\n",
       "      <td>6</td>\n",
       "    </tr>\n",
       "    <tr>\n",
       "      <th>298</th>\n",
       "      <td>CredFlow</td>\n",
       "      <td>New Delhi</td>\n",
       "      <td>2019</td>\n",
       "      <td>Kunal Aggarwal</td>\n",
       "      <td>Credit, Financial Services</td>\n",
       "      <td>CredFlow offers financial services that help y...</td>\n",
       "      <td>1-10</td>\n",
       "      <td>1824000</td>\n",
       "      <td>1</td>\n",
       "      <td>4</td>\n",
       "    </tr>\n",
       "    <tr>\n",
       "      <th>299</th>\n",
       "      <td>HalaPlay Technologies</td>\n",
       "      <td>Bengaluru</td>\n",
       "      <td>2016</td>\n",
       "      <td>Swapnil Saurav</td>\n",
       "      <td>Digital Entertainment, Fantasy Sports, Sports</td>\n",
       "      <td>HalaPlay Technologies is a platform for daily ...</td>\n",
       "      <td>1-10</td>\n",
       "      <td>7964767</td>\n",
       "      <td>3</td>\n",
       "      <td>8</td>\n",
       "    </tr>\n",
       "  </tbody>\n",
       "</table>\n",
       "<p>300 rows × 10 columns</p>\n",
       "</div>"
      ],
      "text/plain": [
       "                   Company       City  Starting Year  \\\n",
       "0            Urban Company    Gurgaon           2014   \n",
       "1                Classplus      Noida           2018   \n",
       "2                    Paytm      Noida           2010   \n",
       "3                     Apna     Mumbai           2019   \n",
       "4                 Razorpay  Bengaluru           2014   \n",
       "..                     ...        ...            ...   \n",
       "295               SafexPay      Thane           2017   \n",
       "296               Pariksha       Pune           2015   \n",
       "297                  Fyllo  Bengaluru           2019   \n",
       "298               CredFlow  New Delhi           2019   \n",
       "299  HalaPlay Technologies  Bengaluru           2016   \n",
       "\n",
       "                                              Founders  \\\n",
       "0    Abhiraj Singh Bhal, Raghav Chandra, Varun Khaitan   \n",
       "1    Bhaswat Agarwal, Bikash Dash, Mukul Rustagi, N...   \n",
       "2                  Akshay Khanna, Vijay Shekhar Sharma   \n",
       "3                                        Nirmit Parikh   \n",
       "4                       Harshil Mathur, Shashank Kumar   \n",
       "..                                                 ...   \n",
       "295                                         Ravi Gupta   \n",
       "296  Deepak Choudhary, Karanvir Singh Shekhawat, Ut...   \n",
       "297        Sachin Gautam, Sudhanshu Rai, Sumit Sheoran   \n",
       "298                                     Kunal Aggarwal   \n",
       "299                                     Swapnil Saurav   \n",
       "\n",
       "                                            Industries  \\\n",
       "0    Apps, Home Services, Marketplace, Service Indu...   \n",
       "1    B2B, E-Learning, EdTech, Education, Mobile App...   \n",
       "2    E-Commerce, Finance, Financial Services, Inter...   \n",
       "3    Employment, Human Resources, Recruiting, Staff...   \n",
       "4      Financial Services, FinTech, Payments, Software   \n",
       "..                                                 ...   \n",
       "295                                  FinTech, Payments   \n",
       "296    E-Learning, EdTech, Education, Skill Assessment   \n",
       "297  Agriculture, AgTech, Artificial Intelligence, ...   \n",
       "298                         Credit, Financial Services   \n",
       "299      Digital Entertainment, Fantasy Sports, Sports   \n",
       "\n",
       "                                           Description No. of Employees  \\\n",
       "0    Urban is a marketplace for independent contrac...        1001-5000   \n",
       "1    Classplus is a mobile-first SaaS platform that...          101-250   \n",
       "2    Paytm is a payment gateway that allows users a...         501-1000   \n",
       "3    Apna is a professional networking and job-sear...          101-250   \n",
       "4    Razorpay is a payment acceptance, processing, ...        1001-5000   \n",
       "..                                                 ...              ...   \n",
       "295  Safexpay is a B2B2B finance company that speci...           51-100   \n",
       "296  Pariksha - The Success App is India's leading ...           51-100   \n",
       "297  Fyllo is a precision agriculture service provi...            11-50   \n",
       "298  CredFlow offers financial services that help y...             1-10   \n",
       "299  HalaPlay Technologies is a platform for daily ...             1-10   \n",
       "\n",
       "     Funding Amount in $  Funding Round  No. of Investors  \n",
       "0              445920356             12                16  \n",
       "1               89506451             10                20  \n",
       "2               32448851              4                 4  \n",
       "3               93450000              4                 6  \n",
       "4              366600000              7                29  \n",
       "..                   ...            ...               ...  \n",
       "295              5280000              1                 2  \n",
       "296              6065079              7                20  \n",
       "297               557033              4                 6  \n",
       "298              1824000              1                 4  \n",
       "299              7964767              3                 8  \n",
       "\n",
       "[300 rows x 10 columns]"
      ]
     },
     "execution_count": 628,
     "metadata": {},
     "output_type": "execute_result"
    }
   ],
   "source": [
    "df"
   ]
  },
  {
   "cell_type": "code",
   "execution_count": 630,
   "id": "e4a94e92",
   "metadata": {},
   "outputs": [],
   "source": [
    "df.to_csv('Startups1.csv')"
   ]
  }
 ],
 "metadata": {
  "kernelspec": {
   "display_name": "Python 3 (ipykernel)",
   "language": "python",
   "name": "python3"
  },
  "language_info": {
   "codemirror_mode": {
    "name": "ipython",
    "version": 3
   },
   "file_extension": ".py",
   "mimetype": "text/x-python",
   "name": "python",
   "nbconvert_exporter": "python",
   "pygments_lexer": "ipython3",
   "version": "3.9.12"
  }
 },
 "nbformat": 4,
 "nbformat_minor": 5
}
